{
 "cells": [
  {
   "cell_type": "code",
   "execution_count": 10,
   "id": "ac1f1ef3",
   "metadata": {
    "pycharm": {
     "name": "#%%\n"
    }
   },
   "outputs": [],
   "source": [
    "import sklearn.datasets as sd\n",
    "import pandas as pd"
   ]
  },
  {
   "cell_type": "code",
   "execution_count": 11,
   "id": "24376861",
   "metadata": {
    "pycharm": {
     "name": "#%%\n"
    }
   },
   "outputs": [],
   "source": [
    "class DatasetLoader:\n",
    "    def __init__(self):\n",
    "        self.datasets = {}\n",
    "        self.load_iris()\n",
    "        self.load_california_housing()\n",
    "        self.load_ames_housing()\n",
    "        self.load_heart_attack()\n",
    "        self.load_stroke()\n",
    "    \n",
    "        self.names = list(loader.datasets.keys())\n",
    "    \n",
    "    def load_iris(self):\n",
    "        # klasik iris dataset, ogledni primjer\n",
    "        data = sd.load_iris(as_frame =True)\n",
    "        df = data['data']\n",
    "        df['target'] = data['target']\n",
    "        self.datasets['iris'] = {'data': df, 'target_name': 'target', 'type': 'c'}\n",
    "        \n",
    "    def load_california_housing(self):\n",
    "        # https://gist.github.com/machinelearning-blog/76b50b18c7db3408646cc8d18c50c20b\n",
    "        data = sd.fetch_california_housing(as_frame =True)\n",
    "        df = data['data']\n",
    "        df['house_value'] = data['target']\n",
    "        self.datasets['california_housing'] = {'data': df, 'target_name': 'house_value', 'type': 'r'}\n",
    "        \n",
    "    def load_ames_housing(self):\n",
    "        data = sd.fetch_openml(name=\"house_prices\", as_frame =True)\n",
    "        df = data['data']\n",
    "        df['sale_price'] = data['target']\n",
    "        self.datasets['ames_housing'] = {'data': df, 'target_name': 'sale_price', 'type': 'r'}\n",
    "        \n",
    "    def load_heart_attack(self):\n",
    "        # https://www.kaggle.com/datasets/rashikrahmanpritom/heart-attack-analysis-prediction-dataset\n",
    "        df = pd.read_csv('../data/heart.csv')\n",
    "        df.rename(columns={'output' : 'target'}, inplace=True)\n",
    "        self.datasets['heart_attack'] = {'data': df, 'target_name': 'target', 'type': 'c'}\n",
    "        \n",
    "    def load_stroke(self):\n",
    "        # https://www.kaggle.com/datasets/fedesoriano/stroke-prediction-dataset\n",
    "        df = pd.read_csv('../data/healthcare-dataset-stroke-data.csv')\n",
    "        # df.rename(columns={'stroke' : 'target'}, inplace=True)\n",
    "        df.dropna(inplace=True)\n",
    "        df = pd.get_dummies(df, columns=[\"gender\", \"ever_married\", \"work_type\", \"Residence_type\", \"smoking_status\"])\n",
    "        df.drop(columns=[\"id\"], inplace=True)\n",
    "        self.datasets['stroke'] = {'data': df, 'target_name': 'stroke', 'type': 'c'}"
   ]
  },
  {
   "cell_type": "code",
   "execution_count": 12,
   "id": "49150660",
   "metadata": {
    "pycharm": {
     "name": "#%%\n"
    }
   },
   "outputs": [
    {
     "ename": "NameError",
     "evalue": "name 'loader' is not defined",
     "output_type": "error",
     "traceback": [
      "\u001B[1;31m---------------------------------------------------------------------------\u001B[0m",
      "\u001B[1;31mNameError\u001B[0m                                 Traceback (most recent call last)",
      "Input \u001B[1;32mIn [12]\u001B[0m, in \u001B[0;36m<cell line: 1>\u001B[1;34m()\u001B[0m\n\u001B[1;32m----> 1\u001B[0m loader \u001B[38;5;241m=\u001B[39m \u001B[43mDatasetLoader\u001B[49m\u001B[43m(\u001B[49m\u001B[43m)\u001B[49m\n\u001B[0;32m      2\u001B[0m loader\u001B[38;5;241m.\u001B[39mnames\n",
      "Input \u001B[1;32mIn [11]\u001B[0m, in \u001B[0;36mDatasetLoader.__init__\u001B[1;34m(self)\u001B[0m\n\u001B[0;32m      7\u001B[0m \u001B[38;5;28mself\u001B[39m\u001B[38;5;241m.\u001B[39mload_heart_attack()\n\u001B[0;32m      8\u001B[0m \u001B[38;5;28mself\u001B[39m\u001B[38;5;241m.\u001B[39mload_stroke()\n\u001B[1;32m---> 10\u001B[0m \u001B[38;5;28mself\u001B[39m\u001B[38;5;241m.\u001B[39mnames \u001B[38;5;241m=\u001B[39m \u001B[38;5;28mlist\u001B[39m(\u001B[43mloader\u001B[49m\u001B[38;5;241m.\u001B[39mdatasets\u001B[38;5;241m.\u001B[39mkeys())\n",
      "\u001B[1;31mNameError\u001B[0m: name 'loader' is not defined"
     ]
    }
   ],
   "source": [
    "loader = DatasetLoader()\n",
    "loader.names"
   ]
  },
  {
   "cell_type": "code",
   "execution_count": null,
   "id": "c450d9bb",
   "metadata": {
    "pycharm": {
     "name": "#%%\n"
    }
   },
   "outputs": [],
   "source": [
    "loader.datasets['heart_attack']['data']"
   ]
  },
  {
   "cell_type": "code",
   "execution_count": null,
   "id": "69e96aae",
   "metadata": {
    "pycharm": {
     "name": "#%%\n"
    }
   },
   "outputs": [],
   "source": []
  }
 ],
 "metadata": {
  "kernelspec": {
   "display_name": "Python 3 (ipykernel)",
   "language": "python",
   "name": "python3"
  },
  "language_info": {
   "codemirror_mode": {
    "name": "ipython",
    "version": 3
   },
   "file_extension": ".py",
   "mimetype": "text/x-python",
   "name": "python",
   "nbconvert_exporter": "python",
   "pygments_lexer": "ipython3",
   "version": "3.10.2"
  }
 },
 "nbformat": 4,
 "nbformat_minor": 5
}